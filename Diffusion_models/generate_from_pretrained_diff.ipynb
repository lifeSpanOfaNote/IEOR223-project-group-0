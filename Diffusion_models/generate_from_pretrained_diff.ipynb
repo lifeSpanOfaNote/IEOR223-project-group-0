{
 "cells": [
  {
   "cell_type": "code",
   "execution_count": null,
   "metadata": {},
   "outputs": [],
   "source": [
    "from diffusers import DDPMPipeline"
   ]
  },
  {
   "cell_type": "code",
   "execution_count": null,
   "metadata": {},
   "outputs": [],
   "source": [
    "# Load the pretrained model weights and generate a new image\n",
    "# Please run the block multiple times to try your luck!\n",
    "# The model (trained for 500 epochs) is very unstable, and produces either silly results or very good results.\n",
    "\n",
    "ddpm = DDPMPipeline.from_pretrained(\"diffusion_for_images_pretrained\").to(\"cuda\")\n",
    "image = ddpm(num_inference_steps=25).images[0]\n",
    "image"
   ]
  }
 ],
 "metadata": {
  "language_info": {
   "name": "python"
  }
 },
 "nbformat": 4,
 "nbformat_minor": 2
}
