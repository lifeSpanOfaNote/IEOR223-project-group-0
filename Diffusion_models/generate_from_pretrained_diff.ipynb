{
 "cells": [
  {
   "cell_type": "code",
   "execution_count": null,
   "metadata": {},
   "outputs": [],
   "source": [
    "from diffusers import DDPMPipeline"
   ]
  },
  {
   "cell_type": "code",
   "execution_count": null,
   "metadata": {},
   "outputs": [],
   "source": [
    "# Load the pretrained model weights and generate a new image\n",
    "# Please try to generate for at least a few times to try your luck. The model is quite unstable.\n"
    "\n",
    "ddpm = DDPMPipeline.from_pretrained(\"diffusion_for_images_pretrained\").to(\"cuda\")\n",
    "image = ddpm(num_inference_steps=25).images[0]\n",
    "image"
   ]
  }
 ],
 "metadata": {
  "language_info": {
   "name": "python"
  }
 },
 "nbformat": 4,
 "nbformat_minor": 2
}
